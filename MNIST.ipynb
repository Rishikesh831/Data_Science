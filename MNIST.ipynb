{
  "nbformat": 4,
  "nbformat_minor": 0,
  "metadata": {
    "colab": {
      "provenance": []
    },
    "kernelspec": {
      "name": "python3",
      "display_name": "Python 3"
    },
    "language_info": {
      "name": "python"
    },
    "widgets": {
      "application/vnd.jupyter.widget-state+json": {
        "70f8c11dd9194c3b826ad63f9bd9347f": {
          "model_module": "@jupyter-widgets/controls",
          "model_name": "HBoxModel",
          "model_module_version": "1.5.0",
          "state": {
            "_dom_classes": [],
            "_model_module": "@jupyter-widgets/controls",
            "_model_module_version": "1.5.0",
            "_model_name": "HBoxModel",
            "_view_count": null,
            "_view_module": "@jupyter-widgets/controls",
            "_view_module_version": "1.5.0",
            "_view_name": "HBoxView",
            "box_style": "",
            "children": [
              "IPY_MODEL_dc2ccaf7356f41659bfdac0ddc3e32eb",
              "IPY_MODEL_a764a334fb1a4bc7a164dfba7267f6c9",
              "IPY_MODEL_f49f606f31ea42d2b03b2690df29405e"
            ],
            "layout": "IPY_MODEL_e762145a68da469f8fe726a110d02c7a"
          }
        },
        "dc2ccaf7356f41659bfdac0ddc3e32eb": {
          "model_module": "@jupyter-widgets/controls",
          "model_name": "HTMLModel",
          "model_module_version": "1.5.0",
          "state": {
            "_dom_classes": [],
            "_model_module": "@jupyter-widgets/controls",
            "_model_module_version": "1.5.0",
            "_model_name": "HTMLModel",
            "_view_count": null,
            "_view_module": "@jupyter-widgets/controls",
            "_view_module_version": "1.5.0",
            "_view_name": "HTMLView",
            "description": "",
            "description_tooltip": null,
            "layout": "IPY_MODEL_b732b6213a704df98f40c1e40faa04eb",
            "placeholder": "​",
            "style": "IPY_MODEL_81821d48233f4b8e8e87c1d51c38fd16",
            "value": "Dl Completed...: 100%"
          }
        },
        "a764a334fb1a4bc7a164dfba7267f6c9": {
          "model_module": "@jupyter-widgets/controls",
          "model_name": "FloatProgressModel",
          "model_module_version": "1.5.0",
          "state": {
            "_dom_classes": [],
            "_model_module": "@jupyter-widgets/controls",
            "_model_module_version": "1.5.0",
            "_model_name": "FloatProgressModel",
            "_view_count": null,
            "_view_module": "@jupyter-widgets/controls",
            "_view_module_version": "1.5.0",
            "_view_name": "ProgressView",
            "bar_style": "success",
            "description": "",
            "description_tooltip": null,
            "layout": "IPY_MODEL_5a393d51747749c5bba9ad2b25f10628",
            "max": 5,
            "min": 0,
            "orientation": "horizontal",
            "style": "IPY_MODEL_333c7e8d21ba44a79893fae8c8dc4c52",
            "value": 5
          }
        },
        "f49f606f31ea42d2b03b2690df29405e": {
          "model_module": "@jupyter-widgets/controls",
          "model_name": "HTMLModel",
          "model_module_version": "1.5.0",
          "state": {
            "_dom_classes": [],
            "_model_module": "@jupyter-widgets/controls",
            "_model_module_version": "1.5.0",
            "_model_name": "HTMLModel",
            "_view_count": null,
            "_view_module": "@jupyter-widgets/controls",
            "_view_module_version": "1.5.0",
            "_view_name": "HTMLView",
            "description": "",
            "description_tooltip": null,
            "layout": "IPY_MODEL_580f2fc02c1d4ab9a9760783e3c22da0",
            "placeholder": "​",
            "style": "IPY_MODEL_41a3676f473e4afc8b2d9723c3183ac3",
            "value": " 5/5 [00:00&lt;00:00, 14.71 file/s]"
          }
        },
        "e762145a68da469f8fe726a110d02c7a": {
          "model_module": "@jupyter-widgets/base",
          "model_name": "LayoutModel",
          "model_module_version": "1.2.0",
          "state": {
            "_model_module": "@jupyter-widgets/base",
            "_model_module_version": "1.2.0",
            "_model_name": "LayoutModel",
            "_view_count": null,
            "_view_module": "@jupyter-widgets/base",
            "_view_module_version": "1.2.0",
            "_view_name": "LayoutView",
            "align_content": null,
            "align_items": null,
            "align_self": null,
            "border": null,
            "bottom": null,
            "display": null,
            "flex": null,
            "flex_flow": null,
            "grid_area": null,
            "grid_auto_columns": null,
            "grid_auto_flow": null,
            "grid_auto_rows": null,
            "grid_column": null,
            "grid_gap": null,
            "grid_row": null,
            "grid_template_areas": null,
            "grid_template_columns": null,
            "grid_template_rows": null,
            "height": null,
            "justify_content": null,
            "justify_items": null,
            "left": null,
            "margin": null,
            "max_height": null,
            "max_width": null,
            "min_height": null,
            "min_width": null,
            "object_fit": null,
            "object_position": null,
            "order": null,
            "overflow": null,
            "overflow_x": null,
            "overflow_y": null,
            "padding": null,
            "right": null,
            "top": null,
            "visibility": null,
            "width": null
          }
        },
        "b732b6213a704df98f40c1e40faa04eb": {
          "model_module": "@jupyter-widgets/base",
          "model_name": "LayoutModel",
          "model_module_version": "1.2.0",
          "state": {
            "_model_module": "@jupyter-widgets/base",
            "_model_module_version": "1.2.0",
            "_model_name": "LayoutModel",
            "_view_count": null,
            "_view_module": "@jupyter-widgets/base",
            "_view_module_version": "1.2.0",
            "_view_name": "LayoutView",
            "align_content": null,
            "align_items": null,
            "align_self": null,
            "border": null,
            "bottom": null,
            "display": null,
            "flex": null,
            "flex_flow": null,
            "grid_area": null,
            "grid_auto_columns": null,
            "grid_auto_flow": null,
            "grid_auto_rows": null,
            "grid_column": null,
            "grid_gap": null,
            "grid_row": null,
            "grid_template_areas": null,
            "grid_template_columns": null,
            "grid_template_rows": null,
            "height": null,
            "justify_content": null,
            "justify_items": null,
            "left": null,
            "margin": null,
            "max_height": null,
            "max_width": null,
            "min_height": null,
            "min_width": null,
            "object_fit": null,
            "object_position": null,
            "order": null,
            "overflow": null,
            "overflow_x": null,
            "overflow_y": null,
            "padding": null,
            "right": null,
            "top": null,
            "visibility": null,
            "width": null
          }
        },
        "81821d48233f4b8e8e87c1d51c38fd16": {
          "model_module": "@jupyter-widgets/controls",
          "model_name": "DescriptionStyleModel",
          "model_module_version": "1.5.0",
          "state": {
            "_model_module": "@jupyter-widgets/controls",
            "_model_module_version": "1.5.0",
            "_model_name": "DescriptionStyleModel",
            "_view_count": null,
            "_view_module": "@jupyter-widgets/base",
            "_view_module_version": "1.2.0",
            "_view_name": "StyleView",
            "description_width": ""
          }
        },
        "5a393d51747749c5bba9ad2b25f10628": {
          "model_module": "@jupyter-widgets/base",
          "model_name": "LayoutModel",
          "model_module_version": "1.2.0",
          "state": {
            "_model_module": "@jupyter-widgets/base",
            "_model_module_version": "1.2.0",
            "_model_name": "LayoutModel",
            "_view_count": null,
            "_view_module": "@jupyter-widgets/base",
            "_view_module_version": "1.2.0",
            "_view_name": "LayoutView",
            "align_content": null,
            "align_items": null,
            "align_self": null,
            "border": null,
            "bottom": null,
            "display": null,
            "flex": null,
            "flex_flow": null,
            "grid_area": null,
            "grid_auto_columns": null,
            "grid_auto_flow": null,
            "grid_auto_rows": null,
            "grid_column": null,
            "grid_gap": null,
            "grid_row": null,
            "grid_template_areas": null,
            "grid_template_columns": null,
            "grid_template_rows": null,
            "height": null,
            "justify_content": null,
            "justify_items": null,
            "left": null,
            "margin": null,
            "max_height": null,
            "max_width": null,
            "min_height": null,
            "min_width": null,
            "object_fit": null,
            "object_position": null,
            "order": null,
            "overflow": null,
            "overflow_x": null,
            "overflow_y": null,
            "padding": null,
            "right": null,
            "top": null,
            "visibility": null,
            "width": null
          }
        },
        "333c7e8d21ba44a79893fae8c8dc4c52": {
          "model_module": "@jupyter-widgets/controls",
          "model_name": "ProgressStyleModel",
          "model_module_version": "1.5.0",
          "state": {
            "_model_module": "@jupyter-widgets/controls",
            "_model_module_version": "1.5.0",
            "_model_name": "ProgressStyleModel",
            "_view_count": null,
            "_view_module": "@jupyter-widgets/base",
            "_view_module_version": "1.2.0",
            "_view_name": "StyleView",
            "bar_color": null,
            "description_width": ""
          }
        },
        "580f2fc02c1d4ab9a9760783e3c22da0": {
          "model_module": "@jupyter-widgets/base",
          "model_name": "LayoutModel",
          "model_module_version": "1.2.0",
          "state": {
            "_model_module": "@jupyter-widgets/base",
            "_model_module_version": "1.2.0",
            "_model_name": "LayoutModel",
            "_view_count": null,
            "_view_module": "@jupyter-widgets/base",
            "_view_module_version": "1.2.0",
            "_view_name": "LayoutView",
            "align_content": null,
            "align_items": null,
            "align_self": null,
            "border": null,
            "bottom": null,
            "display": null,
            "flex": null,
            "flex_flow": null,
            "grid_area": null,
            "grid_auto_columns": null,
            "grid_auto_flow": null,
            "grid_auto_rows": null,
            "grid_column": null,
            "grid_gap": null,
            "grid_row": null,
            "grid_template_areas": null,
            "grid_template_columns": null,
            "grid_template_rows": null,
            "height": null,
            "justify_content": null,
            "justify_items": null,
            "left": null,
            "margin": null,
            "max_height": null,
            "max_width": null,
            "min_height": null,
            "min_width": null,
            "object_fit": null,
            "object_position": null,
            "order": null,
            "overflow": null,
            "overflow_x": null,
            "overflow_y": null,
            "padding": null,
            "right": null,
            "top": null,
            "visibility": null,
            "width": null
          }
        },
        "41a3676f473e4afc8b2d9723c3183ac3": {
          "model_module": "@jupyter-widgets/controls",
          "model_name": "DescriptionStyleModel",
          "model_module_version": "1.5.0",
          "state": {
            "_model_module": "@jupyter-widgets/controls",
            "_model_module_version": "1.5.0",
            "_model_name": "DescriptionStyleModel",
            "_view_count": null,
            "_view_module": "@jupyter-widgets/base",
            "_view_module_version": "1.2.0",
            "_view_name": "StyleView",
            "description_width": ""
          }
        }
      }
    }
  },
  "cells": [
    {
      "cell_type": "code",
      "execution_count": 1,
      "metadata": {
        "id": "pzmCmaFilSg7"
      },
      "outputs": [],
      "source": [
        "import numpy as np"
      ]
    },
    {
      "cell_type": "code",
      "source": [
        "import tensorflow as tf\n",
        "import tensorflow_datasets as tfds"
      ],
      "metadata": {
        "id": "i5Pybz5Xlbkv"
      },
      "execution_count": 2,
      "outputs": []
    },
    {
      "cell_type": "code",
      "source": [
        "mnist_dataset,mnist_info = tfds.load(name='mnist',with_info=True,as_supervised=True)"
      ],
      "metadata": {
        "colab": {
          "base_uri": "https://localhost:8080/",
          "height": 85,
          "referenced_widgets": [
            "70f8c11dd9194c3b826ad63f9bd9347f",
            "dc2ccaf7356f41659bfdac0ddc3e32eb",
            "a764a334fb1a4bc7a164dfba7267f6c9",
            "f49f606f31ea42d2b03b2690df29405e",
            "e762145a68da469f8fe726a110d02c7a",
            "b732b6213a704df98f40c1e40faa04eb",
            "81821d48233f4b8e8e87c1d51c38fd16",
            "5a393d51747749c5bba9ad2b25f10628",
            "333c7e8d21ba44a79893fae8c8dc4c52",
            "580f2fc02c1d4ab9a9760783e3c22da0",
            "41a3676f473e4afc8b2d9723c3183ac3"
          ]
        },
        "id": "OVtiBFlYl__A",
        "outputId": "75d9322d-2b88-4835-aac0-ed6c9ba1cbfd"
      },
      "execution_count": 3,
      "outputs": [
        {
          "output_type": "stream",
          "name": "stdout",
          "text": [
            "Downloading and preparing dataset 11.06 MiB (download: 11.06 MiB, generated: 21.00 MiB, total: 32.06 MiB) to /root/tensorflow_datasets/mnist/3.0.1...\n"
          ]
        },
        {
          "output_type": "display_data",
          "data": {
            "text/plain": [
              "Dl Completed...:   0%|          | 0/5 [00:00<?, ? file/s]"
            ],
            "application/vnd.jupyter.widget-view+json": {
              "version_major": 2,
              "version_minor": 0,
              "model_id": "70f8c11dd9194c3b826ad63f9bd9347f"
            }
          },
          "metadata": {}
        },
        {
          "output_type": "stream",
          "name": "stdout",
          "text": [
            "Dataset mnist downloaded and prepared to /root/tensorflow_datasets/mnist/3.0.1. Subsequent calls will reuse this data.\n"
          ]
        }
      ]
    },
    {
      "cell_type": "code",
      "source": [
        "mnist_train,mnist_test = mnist_dataset['train'],mnist_dataset['test']"
      ],
      "metadata": {
        "id": "adw9jQxgmt7i"
      },
      "execution_count": 4,
      "outputs": []
    },
    {
      "cell_type": "code",
      "source": [
        "num_validation_samples = 0.1*mnist_info.splits['train'].num_examples\n",
        "num_validation_samples = tf.cast(num_validation_samples,tf.int64)\n",
        "num_test_samples = mnist_info.splits['test'].num_examples\n",
        "num_test_samples = tf.cast(num_test_samples,tf.int64)"
      ],
      "metadata": {
        "id": "SCDhkB6ED5cY"
      },
      "execution_count": 5,
      "outputs": []
    },
    {
      "cell_type": "code",
      "source": [
        "def scale(image,label):\n",
        "  image = tf.cast(image,tf.float32)\n",
        "  image /= 255.\n",
        "  return image,label"
      ],
      "metadata": {
        "id": "8ngiEfBZFoI8"
      },
      "execution_count": 6,
      "outputs": []
    },
    {
      "cell_type": "code",
      "source": [
        "scaled_train_and_validation_data = mnist_train.map(scale)\n",
        "test_data = mnist_test.map(scale)"
      ],
      "metadata": {
        "id": "XZ6-ySmYGcxb"
      },
      "execution_count": 7,
      "outputs": []
    },
    {
      "cell_type": "code",
      "source": [
        "BUFFER_SIZE = 10000\n",
        "shuffled_train_and_validation_data = scaled_train_and_validation_data.shuffle(BUFFER_SIZE)\n",
        "validation_data = shuffled_train_and_validation_data.take(num_validation_samples)\n",
        "train_data = shuffled_train_and_validation_data.skip(num_validation_samples)"
      ],
      "metadata": {
        "id": "ZnYrKgIzGihA"
      },
      "execution_count": 8,
      "outputs": []
    },
    {
      "cell_type": "code",
      "source": [
        "BATCH_SIZE = 100\n",
        "train_data = train_data.batch(BATCH_SIZE)\n",
        "validation_data = validation_data.batch(num_validation_samples)\n",
        "test_data = test_data.batch(num_test_samples)"
      ],
      "metadata": {
        "id": "uXKzlK1pFCIl"
      },
      "execution_count": 9,
      "outputs": []
    },
    {
      "cell_type": "code",
      "source": [
        "validation_inputs,validation_targets = next(iter(validation_data))"
      ],
      "metadata": {
        "id": "UEukfTMoyhrh"
      },
      "execution_count": 10,
      "outputs": []
    },
    {
      "cell_type": "markdown",
      "source": [
        "**MODEL**"
      ],
      "metadata": {
        "id": "k_x7NhQvzemz"
      }
    },
    {
      "cell_type": "markdown",
      "source": [
        "OUTLINE THE MODEL"
      ],
      "metadata": {
        "id": "c5GSgP0jztDq"
      }
    },
    {
      "cell_type": "markdown",
      "source": [
        "784 INPUTS ---- 10 OUTPUTS (0 to 1)"
      ],
      "metadata": {
        "id": "ABiAWZnozv6C"
      }
    },
    {
      "cell_type": "code",
      "source": [
        "input_size = 784\n",
        "output_size = 10\n",
        "hidden_layer_size = 100\n",
        "model = tf.keras.Sequential([\n",
        "    tf.keras.layers.Flatten(input_shape = (28,28,1)),\n",
        "    tf.keras.layers.Dense(hidden_layer_size,activation='relu'),\n",
        "    tf.keras.layers.Dense(hidden_layer_size,activation='relu'),\n",
        "    tf.keras.layers.Dense(output_size,activation='softmax')\n",
        "\n",
        "\n",
        "\n",
        "\n",
        "\n",
        "])"
      ],
      "metadata": {
        "id": "rSlIabuiyhCg",
        "colab": {
          "base_uri": "https://localhost:8080/"
        },
        "outputId": "e402dad5-0e80-4b61-a008-f10da3d0bf40"
      },
      "execution_count": 11,
      "outputs": [
        {
          "output_type": "stream",
          "name": "stderr",
          "text": [
            "/usr/local/lib/python3.11/dist-packages/keras/src/layers/reshaping/flatten.py:37: UserWarning: Do not pass an `input_shape`/`input_dim` argument to a layer. When using Sequential models, prefer using an `Input(shape)` object as the first layer in the model instead.\n",
            "  super().__init__(**kwargs)\n"
          ]
        }
      ]
    },
    {
      "cell_type": "markdown",
      "source": [
        "tf.keras.Sequential() is used to stack layers\n",
        "tf.keras.layers.Flatten(original shape) = transformed to vector\n",
        "\n",
        "tf.keras.layers.Dense(output size) = calculates the dot product of inputs and weights and adds the bias. we can also apply an activate function.\n",
        "\n",
        "Relu is function wich returns x if x is ppositive and 0 if x is negative\n",
        "\n",
        "\n"
      ],
      "metadata": {
        "id": "KXRp7TQt1Eh-"
      }
    },
    {
      "cell_type": "markdown",
      "source": [
        "**CHOOSE THE OPTIMIZER AND THE LOSS FUNCTION**"
      ],
      "metadata": {
        "id": "sR5kewE77pkq"
      }
    },
    {
      "cell_type": "code",
      "source": [
        "# prompt: compile the model with adam optimizer and sparse crossentropy loss\n",
        "\n",
        "model.compile(optimizer='adam', loss='sparse_categorical_crossentropy', metrics=['accuracy'])\n"
      ],
      "metadata": {
        "id": "efG7RWC77hHa"
      },
      "execution_count": 12,
      "outputs": []
    },
    {
      "cell_type": "markdown",
      "source": [
        "MODEL.COMPILE(OPTIMIZER,LOSS) configures the model for training"
      ],
      "metadata": {
        "id": "cQ0OPwXbFHPS"
      }
    },
    {
      "cell_type": "markdown",
      "source": [
        "**TRAINING**"
      ],
      "metadata": {
        "id": "Nbc8FSTkGIDZ"
      }
    },
    {
      "cell_type": "code",
      "source": [
        "NUM_EPOCHS = 6\n",
        "model.fit(train_data,epochs=NUM_EPOCHS,validation_data=(validation_inputs,validation_targets),verbose=2)"
      ],
      "metadata": {
        "id": "suRHl0O7GS7t",
        "colab": {
          "base_uri": "https://localhost:8080/"
        },
        "outputId": "8d0aa15c-aa50-4a56-b5ab-c55376b2dce2"
      },
      "execution_count": 15,
      "outputs": [
        {
          "output_type": "stream",
          "name": "stdout",
          "text": [
            "Epoch 1/6\n",
            "540/540 - 5s - 9ms/step - accuracy: 0.9940 - loss: 0.0197 - val_accuracy: 0.9893 - val_loss: 0.0331\n",
            "Epoch 2/6\n",
            "540/540 - 5s - 9ms/step - accuracy: 0.9942 - loss: 0.0184 - val_accuracy: 0.9893 - val_loss: 0.0344\n",
            "Epoch 3/6\n",
            "540/540 - 6s - 11ms/step - accuracy: 0.9952 - loss: 0.0152 - val_accuracy: 0.9937 - val_loss: 0.0196\n",
            "Epoch 4/6\n",
            "540/540 - 11s - 19ms/step - accuracy: 0.9960 - loss: 0.0124 - val_accuracy: 0.9955 - val_loss: 0.0153\n",
            "Epoch 5/6\n",
            "540/540 - 9s - 16ms/step - accuracy: 0.9958 - loss: 0.0140 - val_accuracy: 0.9945 - val_loss: 0.0164\n",
            "Epoch 6/6\n",
            "540/540 - 6s - 12ms/step - accuracy: 0.9966 - loss: 0.0111 - val_accuracy: 0.9967 - val_loss: 0.0095\n"
          ]
        },
        {
          "output_type": "execute_result",
          "data": {
            "text/plain": [
              "<keras.src.callbacks.history.History at 0x7a325c64d350>"
            ]
          },
          "metadata": {},
          "execution_count": 15
        }
      ]
    },
    {
      "cell_type": "markdown",
      "source": [
        "EPOCHS - one complete pass through the entire training dataset during the training of a machine learning model\n",
        "Validation inpts and validaion taregets act as x and y axis repectively.\n",
        "verbose is a way to present output\n",
        "\n",
        "0 = no visible text\n",
        "\n",
        "\n",
        "\n",
        "1 = progress bar\n",
        "\n",
        "2 = one line feedback per epoch\n",
        "\n",
        "3 = one line feedback per batch(TF>=2.6)\n",
        "\n",
        "**The weights and biases will update with every batch**"
      ],
      "metadata": {
        "id": "T6ewzS1I5fwY"
      }
    },
    {
      "cell_type": "markdown",
      "source": [
        " The *width* (the hidden layer size) of the algorithm. Try a hidden layer size of 200. How does the validation accuracy of the model change? What about the time it took the algorithm to train? Can you find a hidden layer size that does better?\n",
        "\n",
        "2. The *depth* of the algorithm. Add another hidden layer to the algorithm. This is an extremely important exercise! How does the validation accuracy change? What about the time it took the algorithm to train? Hint: Be careful with the shapes of the weights and the biases.\n",
        "\n",
        "3. The *width and depth* of the algorithm. Add as many additional layers as you need to reach 5 hidden layers. Moreover, adjust the width of the algorithm as you find suitable. How does the validation accuracy change? What about the time it took the algorithm to train?\n",
        "\n",
        "4. Fiddle with the activation functions. Try applying sigmoid transformation to both layers. The sigmoid activation is given by the string 'sigmoid'.\n",
        "\n",
        "5. Fiddle with the activation functions. Try applying a ReLu to the first hidden layer and tanh to the second one. The tanh activation is given by the string 'tanh'.\n",
        "\n",
        "6. Adjust the batch size. Try a batch size of 10000. How does the required time change? What about the accuracy?\n",
        "\n",
        "7. Adjust the batch size. Try a batch size of 1. That's the SGD. How do the time and accuracy change? Is the result coherent with the theory?\n",
        "\n",
        "8. Adjust the learning rate. Try a value of 0.0001. Does it make a difference?\n",
        "\n",
        "9. Adjust the learning rate. Try a value of 0.02. Does it make a difference?\n",
        "\n",
        "10. Combine all the methods above and try to reach a validation accuracy of 98.5+ percent.\n",
        "\n"
      ],
      "metadata": {
        "id": "fvd3-oAFyQ6Z"
      }
    },
    {
      "cell_type": "markdown",
      "source": [
        "**TEST DATASET**"
      ],
      "metadata": {
        "id": "1I7OnfQizAPJ"
      }
    },
    {
      "cell_type": "markdown",
      "source": [
        "model.evaluate() returns the loss value and metrics value for the model."
      ],
      "metadata": {
        "id": "CIgGnWAIzN7A"
      }
    },
    {
      "cell_type": "code",
      "source": [
        "# prompt: evaluate model with test_data and store it in test_loss and test_accuracy. display both variab;es\n",
        "\n",
        "test_loss, test_accuracy = model.evaluate(test_data)\n",
        "print('Test loss: {0:.3f}. Test accuracy: {1:.3f}%'.format(test_loss, test_accuracy*100.))\n"
      ],
      "metadata": {
        "colab": {
          "base_uri": "https://localhost:8080/"
        },
        "id": "paZ057--zd9D",
        "outputId": "41bc3abc-4137-4f0e-b114-fbcd4a4f3eb9"
      },
      "execution_count": 18,
      "outputs": [
        {
          "output_type": "stream",
          "name": "stdout",
          "text": [
            "\u001b[1m1/1\u001b[0m \u001b[32m━━━━━━━━━━━━━━━━━━━━\u001b[0m\u001b[37m\u001b[0m \u001b[1m0s\u001b[0m 457ms/step - accuracy: 0.9794 - loss: 0.0845\n",
            "Test loss: 0.085. Test accuracy: 97.940%\n"
          ]
        }
      ]
    },
    {
      "cell_type": "markdown",
      "source": [],
      "metadata": {
        "id": "QwmNAIgGzdZL"
      }
    }
  ]
}